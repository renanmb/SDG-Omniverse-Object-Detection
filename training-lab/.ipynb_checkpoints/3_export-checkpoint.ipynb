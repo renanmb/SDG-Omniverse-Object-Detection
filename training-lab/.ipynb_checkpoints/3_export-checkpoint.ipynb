{
 "cells": [
  {
   "cell_type": "markdown",
   "id": "e350f2a0",
   "metadata": {},
   "source": [
    "## Export model"
   ]
  },
  {
   "cell_type": "markdown",
   "id": "85f1d531",
   "metadata": {},
   "source": [
    "Now we have a trained model that we are going to convert before deploying."
   ]
  },
  {
   "cell_type": "code",
   "execution_count": null,
   "id": "bc6a0ca4",
   "metadata": {},
   "outputs": [],
   "source": [
    "import os\n",
    "import torch\n",
    "import torchvision"
   ]
  },
  {
   "cell_type": "markdown",
   "id": "c14f053d",
   "metadata": {},
   "source": [
    "We first need to point to where out current PyTorch model is saved. Fill in the `pytorch_dir` variable. We have the location set to our default model, feel free to change it to the location of your model."
   ]
  },
  {
   "cell_type": "code",
   "execution_count": null,
   "id": "5d9a5ffc",
   "metadata": {},
   "outputs": [],
   "source": [
    "pytorch_dir = \"/dli/task/data/model.pth\""
   ]
  },
  {
   "cell_type": "markdown",
   "id": "d9277e7c",
   "metadata": {},
   "source": [
    "Defining our device as we had done previously for training."
   ]
  },
  {
   "cell_type": "code",
   "execution_count": null,
   "id": "85a1f045-fa0b-4766-99e7-a8abb3db9fe1",
   "metadata": {},
   "outputs": [],
   "source": [
    "device = torch.device('cuda') if torch.cuda.is_available() else torch.device('cpu')"
   ]
  },
  {
   "cell_type": "markdown",
   "id": "40d96d5f",
   "metadata": {},
   "source": [
    "Let's now load the Pytorch model."
   ]
  },
  {
   "cell_type": "code",
   "execution_count": null,
   "id": "a8d8f556",
   "metadata": {},
   "outputs": [],
   "source": [
    "model = torch.load(pytorch_dir).cuda()"
   ]
  },
  {
   "cell_type": "markdown",
   "id": "5966f280",
   "metadata": {},
   "source": [
    "We will now export our trained model for deployment. ONNX is an open format built to represent machine learning models. Read more about it [here](https://onnx.ai/)."
   ]
  },
  {
   "cell_type": "code",
   "execution_count": null,
   "id": "b969d5bb",
   "metadata": {},
   "outputs": [],
   "source": [
    "dummy_input = torch.rand(1, 3, 1024, 1024).cuda()\n",
    "\n",
    "torch.onnx.export(model,\n",
    "               dummy_input,\n",
    "               \"model.onnx\",\n",
    "               opset_version=11,\n",
    "               input_names=[\"input\"],\n",
    "               output_names=[\"boxes\", \"labels\", \"scores\"]\n",
    "               )"
   ]
  },
  {
   "cell_type": "markdown",
   "id": "774919f1",
   "metadata": {},
   "source": [
    "Now we have a model ready for deployment! We will be moving into our Triton container. if you would like to use your ONNX model, run the cell below. Otherwise you can continue with the pretrained models."
   ]
  },
  {
   "cell_type": "code",
   "execution_count": null,
   "id": "b7e149dc-a0c2-49a4-8c22-04d6b25d9a46",
   "metadata": {},
   "outputs": [],
   "source": [
    "!cp model.onnx /dli/task/data/custom_onnx"
   ]
  }
 ],
 "metadata": {
  "kernelspec": {
   "display_name": "Python 3 (ipykernel)",
   "language": "python",
   "name": "python3"
  },
  "language_info": {
   "codemirror_mode": {
    "name": "ipython",
    "version": 3
   },
   "file_extension": ".py",
   "mimetype": "text/x-python",
   "name": "python",
   "nbconvert_exporter": "python",
   "pygments_lexer": "ipython3",
   "version": "3.8.13"
  },
  "vscode": {
   "interpreter": {
    "hash": "e7370f93d1d0cde622a1f8e1c04877d8463912d04d973331ad4851f04de6915a"
   }
  }
 },
 "nbformat": 4,
 "nbformat_minor": 5
}
